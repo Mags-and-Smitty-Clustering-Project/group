{
 "cells": [
  {
   "cell_type": "code",
   "execution_count": 1,
   "id": "5e8afde9",
   "metadata": {},
   "outputs": [],
   "source": [
    "import pandas as pd\n",
    "import numpy as np\n",
    "import matplotlib.pyplot as plt\n",
    "import seaborn as sns\n",
    "from sklearn.model_selection import train_test_split\n",
    "from sklearn.preprocessing import RobustScaler\n",
    "from sklearn.preprocessing import QuantileTransformer\n",
    "from sklearn.preprocessing import MinMaxScaler\n",
    "from sklearn.preprocessing import StandardScaler\n",
    "from sklearn.feature_selection import SelectKBest, f_regression\n",
    "from sklearn.linear_model import LinearRegression\n",
    "from sklearn.feature_selection import RFE\n",
    "from sklearn.metrics import mean_squared_error\n",
    "from sklearn.linear_model import LassoLars\n",
    "from sklearn.cluster import KMeans\n",
    "from sklearn.preprocessing import PolynomialFeatures\n",
    "from sklearn.linear_model import TweedieRegressor\n",
    "from math import sqrt\n",
    "from scipy.stats import pearsonr, spearmanr\n",
    "from scipy import stats\n",
    "\n",
    "from env import get_connection\n",
    "import prepare\n",
    "\n",
    "\n",
    "# turn off pink boxes for demo\n",
    "import warnings\n",
    "warnings.filterwarnings(\"ignore\")"
   ]
  },
  {
   "cell_type": "code",
   "execution_count": null,
   "id": "deaa6233",
   "metadata": {},
   "outputs": [],
   "source": []
  },
  {
   "cell_type": "code",
   "execution_count": null,
   "id": "de8a793d",
   "metadata": {},
   "outputs": [],
   "source": []
  },
  {
   "cell_type": "code",
   "execution_count": null,
   "id": "9dad3bdd",
   "metadata": {},
   "outputs": [],
   "source": []
  },
  {
   "cell_type": "code",
   "execution_count": null,
   "id": "e466e471",
   "metadata": {},
   "outputs": [],
   "source": [
    "\n",
    "# our linear regression model\n",
    "\n",
    "ols_model = LinearRegression()\n",
    "\n",
    "ols_model.fit(train_scaled[['density']], train_scaled[['quality']])\n",
    "\n",
    "# predicting on density after it's been fit\n",
    "\n",
    "ols_model.predict(train_scaled[['density']])\n",
    "\n",
    "# model predictions from above line of codes with 'yhat' as variable name and append it on to df\n",
    "predictions_df['yhat'] = ols_model.predict(train_scaled[['density']])\n",
    "\n",
    "\n",
    "# the residual column tells how far from the baseline we are from the actual\n",
    "\n",
    "predictions_df['baseline_res'] = predictions_df['baseline_preds'] - predictions_df['quality'] \n",
    "\n",
    "\n",
    "## make a scatter plot\n",
    "\n",
    "plt.scatter(x = predictions_df['density'], y = predictions_df['baseline_res'])\n",
    "\n",
    "plt.xlabel('Density')\n",
    "plt.ylabel('Baseline Residual')\n",
    "plt.show()\n",
    "\n",
    "\n",
    "# looking at difference between yhat predictions and actual preds['mpg']\n",
    "\n",
    "predictions_df['yhat_res'] = predictions_df['yhat'] - predictions_df['quality']\n",
    "\n",
    "\n",
    "\n",
    "## make a scatter plot of the model's prediction minus the actual preditcion of mpg\n",
    "\n",
    "plt.scatter(x = predictions_df['density'], y = predictions_df['yhat_res'])\n",
    "\n",
    "plt.xlabel('Density')\n",
    "plt.ylabel('Predictions Residual')\n",
    "plt.show()\n",
    "\n"
   ]
  },
  {
   "cell_type": "code",
   "execution_count": null,
   "id": "0165a426",
   "metadata": {},
   "outputs": [],
   "source": []
  },
  {
   "cell_type": "code",
   "execution_count": null,
   "id": "90a0cc80",
   "metadata": {},
   "outputs": [],
   "source": []
  },
  {
   "cell_type": "code",
   "execution_count": null,
   "id": "fb16851c",
   "metadata": {},
   "outputs": [],
   "source": []
  },
  {
   "cell_type": "code",
   "execution_count": null,
   "id": "d000c495",
   "metadata": {},
   "outputs": [],
   "source": [
    "\n",
    "# finding the RMSE in one step (x = original, y = prediction)\n",
    "\n",
    "dens_qual_rmse = sqrt(mean_squared_error(predictions_df['quality'], predictions_df['baseline_preds']))\n",
    "print(f'The RMSE of density against wine quality is {round(dens_qual_rmse,4)}.')\n",
    "\n",
    "# RMSE of linear regression model\n",
    "\n",
    "OLS_rmse = mean_squared_error(predictions_df['yhat'], predictions_df['quality'], squared = False)\n",
    "\n",
    "print(f'The RMSE for the OLS Linear Regression model was {round(OLS_rmse, 4)}.')\n"
   ]
  },
  {
   "cell_type": "code",
   "execution_count": null,
   "id": "2c765dd6",
   "metadata": {},
   "outputs": [],
   "source": []
  },
  {
   "cell_type": "code",
   "execution_count": null,
   "id": "a59adbcb",
   "metadata": {},
   "outputs": [],
   "source": []
  },
  {
   "cell_type": "code",
   "execution_count": null,
   "id": "bd5d3158",
   "metadata": {},
   "outputs": [],
   "source": [
    "# inertia loop\n",
    "\n",
    "inertia = []\n",
    "seed = 23\n",
    "\n",
    "for i in range (1, 7):\n",
    "    \n",
    "    # clustering increments\n",
    "    kmeans = KMeans(n_clusters = i, random_state = seed)\n",
    "    \n",
    "    kmeans.fit(train_scaled[['sugar_dens']])\n",
    "    \n",
    "    # append the inertia\n",
    "    inertia.append(kmeans.inertia_)\n",
    "    \n",
    "# creating a df for the sugar-citric acid features to allow for graphing\n",
    "\n",
    "inertia_sd_df = pd.DataFrame({'n_clusters' : list(range(1,7)),\n",
    "                               'inertia' : inertia})\n",
    "\n",
    "# elbow of the better number of k\n",
    "\n",
    "sns.relplot(data = inertia_sd_df, x = 'n_clusters', y = 'inertia', kind = 'line')\n",
    "plt.grid()\n",
    "plt.show()"
   ]
  },
  {
   "cell_type": "code",
   "execution_count": null,
   "id": "bc789df7",
   "metadata": {},
   "outputs": [],
   "source": []
  },
  {
   "cell_type": "code",
   "execution_count": null,
   "id": "3673fbfc",
   "metadata": {},
   "outputs": [],
   "source": []
  },
  {
   "cell_type": "code",
   "execution_count": null,
   "id": "a7ed7858",
   "metadata": {},
   "outputs": [],
   "source": []
  }
 ],
 "metadata": {
  "kernelspec": {
   "display_name": "Python 3 (ipykernel)",
   "language": "python",
   "name": "python3"
  },
  "language_info": {
   "codemirror_mode": {
    "name": "ipython",
    "version": 3
   },
   "file_extension": ".py",
   "mimetype": "text/x-python",
   "name": "python",
   "nbconvert_exporter": "python",
   "pygments_lexer": "ipython3",
   "version": "3.9.13"
  }
 },
 "nbformat": 4,
 "nbformat_minor": 5
}
